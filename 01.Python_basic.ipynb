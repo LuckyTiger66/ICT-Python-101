{
  "cells": [
    {
      "metadata": {
        "collapsed": true,
        "slideshow": {
          "slide_type": "slide"
        }
      },
      "cell_type": "markdown",
      "source": "#  01.Python程式基礎"
    },
    {
      "metadata": {},
      "cell_type": "markdown",
      "source": "\n- 這是屬於勞動部勞動力發展署中彰投分署-自辦職前訓練-資通訊ICT通識課程的其中一部分講義，我們先來認識所謂「程式」的基礎吧\n    - 建立環境\n    \n- 程式的組成\n    - 基本資料型態 (整數、浮點數、字串、布林)(串列、元組、字典、集合)\n    - 格式化的輸出與輸入（print, input()）\n    - 運算子、運算式與敘述(加減乘除、大小等於)\n    - 選擇性敘述（if-else）\n    - 迴圈(for, while)\n    \n    \n    \n    - 函數(def foo():)\n    - 類別(class Foo():)"
    },
    {
      "metadata": {
        "trusted": true
      },
      "cell_type": "code",
      "source": "import this",
      "execution_count": 1,
      "outputs": [
        {
          "output_type": "stream",
          "text": "The Zen of Python, by Tim Peters\n\nBeautiful is better than ugly.\nExplicit is better than implicit.\nSimple is better than complex.\nComplex is better than complicated.\nFlat is better than nested.\nSparse is better than dense.\nReadability counts.\nSpecial cases aren't special enough to break the rules.\nAlthough practicality beats purity.\nErrors should never pass silently.\nUnless explicitly silenced.\nIn the face of ambiguity, refuse the temptation to guess.\nThere should be one-- and preferably only one --obvious way to do it.\nAlthough that way may not be obvious at first unless you're Dutch.\nNow is better than never.\nAlthough never is often better than *right* now.\nIf the implementation is hard to explain, it's a bad idea.\nIf the implementation is easy to explain, it may be a good idea.\nNamespaces are one honking great idea -- let's do more of those!\n",
          "name": "stdout"
        }
      ]
    },
    {
      "metadata": {
        "trusted": true,
        "slideshow": {
          "slide_type": "slide"
        }
      },
      "cell_type": "markdown",
      "source": "## 建立Python環境"
    },
    {
      "metadata": {},
      "cell_type": "markdown",
      "source": "- 方法1:官網下載Python: https://www.python.org/\n    - 電腦直接裝Python者，可用命令列或IDEL\n\n- 方法2:安裝ANACONDA(本文推薦): https://www.anaconda.com/\n    - 安裝ANACONDA者，可用jupyter notebook，初學者建議\n    \n- 方法3:使用Microsoft Azure Notebooks服務(本文使用此服務): https://notebooks.azure.com/#"
    },
    {
      "metadata": {
        "slideshow": {
          "slide_type": "slide"
        }
      },
      "cell_type": "markdown",
      "source": "## 0.使用Python"
    },
    {
      "metadata": {
        "slideshow": {
          "slide_type": "slide"
        },
        "trusted": true
      },
      "cell_type": "code",
      "source": "#第一個 Python 指令\nprint(\"hello world!\")\nprint('hihi')",
      "execution_count": 2,
      "outputs": [
        {
          "output_type": "stream",
          "text": "hello world!\nhihi\n",
          "name": "stdout"
        }
      ]
    },
    {
      "metadata": {
        "trusted": true
      },
      "cell_type": "code",
      "source": "food= 10\nfood",
      "execution_count": 3,
      "outputs": [
        {
          "output_type": "execute_result",
          "execution_count": 3,
          "data": {
            "text/plain": "10"
          },
          "metadata": {}
        }
      ]
    },
    {
      "metadata": {
        "trusted": true,
        "scrolled": true
      },
      "cell_type": "code",
      "source": "print(\"共有\"+str(food)+\"個食物\")",
      "execution_count": 4,
      "outputs": [
        {
          "output_type": "stream",
          "text": "共有10個食物\n",
          "name": "stdout"
        }
      ]
    },
    {
      "metadata": {},
      "cell_type": "markdown",
      "source": "## 1.立馬進行基本計算"
    },
    {
      "metadata": {},
      "cell_type": "markdown",
      "source": "加減乘除非常方便，直接進行即可"
    },
    {
      "metadata": {
        "trusted": true,
        "slideshow": {
          "slide_type": "subslide"
        }
      },
      "cell_type": "code",
      "source": "1+1",
      "execution_count": 9,
      "outputs": [
        {
          "output_type": "execute_result",
          "execution_count": 9,
          "data": {
            "text/plain": "2"
          },
          "metadata": {}
        }
      ]
    },
    {
      "metadata": {
        "trusted": true,
        "slideshow": {
          "slide_type": "subslide"
        }
      },
      "cell_type": "code",
      "source": "5*5",
      "execution_count": 10,
      "outputs": [
        {
          "output_type": "execute_result",
          "execution_count": 10,
          "data": {
            "text/plain": "25"
          },
          "metadata": {}
        }
      ]
    },
    {
      "metadata": {
        "trusted": true,
        "slideshow": {
          "slide_type": "subslide"
        }
      },
      "cell_type": "code",
      "source": "# 兩個**就是次方\n2**10\n5**10",
      "execution_count": 12,
      "outputs": [
        {
          "output_type": "execute_result",
          "execution_count": 12,
          "data": {
            "text/plain": "9765625"
          },
          "metadata": {}
        }
      ]
    },
    {
      "metadata": {
        "trusted": true
      },
      "cell_type": "code",
      "source": "# 除法ＯＫ的\n7/3",
      "execution_count": 13,
      "outputs": [
        {
          "output_type": "execute_result",
          "execution_count": 13,
          "data": {
            "text/plain": "2.3333333333333335"
          },
          "metadata": {}
        }
      ]
    },
    {
      "metadata": {},
      "cell_type": "markdown",
      "source": "## 2.輕鬆上手基本資料型態"
    },
    {
      "metadata": {},
      "cell_type": "markdown",
      "source": "基本資料型態在python指的是整數、浮點數(就是小數)、字串(文字)"
    },
    {
      "metadata": {
        "trusted": true
      },
      "cell_type": "code",
      "source": "type(1+2.)",
      "execution_count": null,
      "outputs": []
    },
    {
      "metadata": {},
      "cell_type": "markdown",
      "source": "想知道手上資料的型態，可以用type()來確認"
    },
    {
      "metadata": {
        "trusted": true
      },
      "cell_type": "code",
      "source": "type(87), type(55.66),  type(\"5566\"), type(1 == 1)",
      "execution_count": 14,
      "outputs": [
        {
          "output_type": "execute_result",
          "execution_count": 14,
          "data": {
            "text/plain": "(int, float, str, bool)"
          },
          "metadata": {}
        }
      ]
    },
    {
      "metadata": {
        "trusted": true
      },
      "cell_type": "code",
      "source": "#資料型態不同不能計算?\n\n1+2",
      "execution_count": 16,
      "outputs": [
        {
          "output_type": "execute_result",
          "execution_count": 16,
          "data": {
            "text/plain": "3"
          },
          "metadata": {}
        }
      ]
    },
    {
      "metadata": {
        "trusted": true
      },
      "cell_type": "code",
      "source": "#資料型態轉換\nfloat(222)",
      "execution_count": 17,
      "outputs": [
        {
          "output_type": "execute_result",
          "execution_count": 17,
          "data": {
            "text/plain": "222.0"
          },
          "metadata": {}
        }
      ]
    },
    {
      "metadata": {},
      "cell_type": "markdown",
      "source": "## 3.快速使用輸入與輸出"
    },
    {
      "metadata": {},
      "cell_type": "markdown",
      "source": "輸出以print()把資料印出來，輸入就以input()讓使用者使用\n\nprint()在jupyter notebook不用特別打"
    },
    {
      "metadata": {
        "trusted": true,
        "slideshow": {
          "slide_type": "subslide"
        }
      },
      "cell_type": "code",
      "source": "print('我的名子是: '+input())\n\n#input()預設輸入皆為字串",
      "execution_count": 19,
      "outputs": [
        {
          "output_type": "stream",
          "name": "stdout",
          "text": "willis\n我的名子是: willis\n"
        }
      ]
    },
    {
      "metadata": {
        "trusted": true,
        "slideshow": {
          "slide_type": "subslide"
        }
      },
      "cell_type": "code",
      "source": "email = '我的email帳號:'+input()\nprint(email)",
      "execution_count": 5,
      "outputs": [
        {
          "output_type": "stream",
          "name": "stdout",
          "text": "willismax.com@gmail.com\n我的email帳號:willismax.com@gmail.com\n"
        }
      ]
    },
    {
      "metadata": {
        "trusted": true
      },
      "cell_type": "code",
      "source": "顏文字 = \"龜派氣功(ﾟДﾟ)< ============O))\"\n顏文字*50",
      "execution_count": 6,
      "outputs": [
        {
          "output_type": "execute_result",
          "execution_count": 6,
          "data": {
            "text/plain": "'龜派氣功(ﾟДﾟ)< ============O))龜派氣功(ﾟДﾟ)< ============O))龜派氣功(ﾟДﾟ)< ============O))龜派氣功(ﾟДﾟ)< ============O))龜派氣功(ﾟДﾟ)< ============O))龜派氣功(ﾟДﾟ)< ============O))龜派氣功(ﾟДﾟ)< ============O))龜派氣功(ﾟДﾟ)< ============O))龜派氣功(ﾟДﾟ)< ============O))龜派氣功(ﾟДﾟ)< ============O))龜派氣功(ﾟДﾟ)< ============O))龜派氣功(ﾟДﾟ)< ============O))龜派氣功(ﾟДﾟ)< ============O))龜派氣功(ﾟДﾟ)< ============O))龜派氣功(ﾟДﾟ)< ============O))龜派氣功(ﾟДﾟ)< ============O))龜派氣功(ﾟДﾟ)< ============O))龜派氣功(ﾟДﾟ)< ============O))龜派氣功(ﾟДﾟ)< ============O))龜派氣功(ﾟДﾟ)< ============O))龜派氣功(ﾟДﾟ)< ============O))龜派氣功(ﾟДﾟ)< ============O))龜派氣功(ﾟДﾟ)< ============O))龜派氣功(ﾟДﾟ)< ============O))龜派氣功(ﾟДﾟ)< ============O))龜派氣功(ﾟДﾟ)< ============O))龜派氣功(ﾟДﾟ)< ============O))龜派氣功(ﾟДﾟ)< ============O))龜派氣功(ﾟДﾟ)< ============O))龜派氣功(ﾟДﾟ)< ============O))龜派氣功(ﾟДﾟ)< ============O))龜派氣功(ﾟДﾟ)< ============O))龜派氣功(ﾟДﾟ)< ============O))龜派氣功(ﾟДﾟ)< ============O))龜派氣功(ﾟДﾟ)< ============O))龜派氣功(ﾟДﾟ)< ============O))龜派氣功(ﾟДﾟ)< ============O))龜派氣功(ﾟДﾟ)< ============O))龜派氣功(ﾟДﾟ)< ============O))龜派氣功(ﾟДﾟ)< ============O))龜派氣功(ﾟДﾟ)< ============O))龜派氣功(ﾟДﾟ)< ============O))龜派氣功(ﾟДﾟ)< ============O))龜派氣功(ﾟДﾟ)< ============O))龜派氣功(ﾟДﾟ)< ============O))龜派氣功(ﾟДﾟ)< ============O))龜派氣功(ﾟДﾟ)< ============O))龜派氣功(ﾟДﾟ)< ============O))龜派氣功(ﾟДﾟ)< ============O))龜派氣功(ﾟДﾟ)< ============O))'"
          },
          "metadata": {}
        }
      ]
    },
    {
      "metadata": {
        "trusted": true
      },
      "cell_type": "code",
      "source": "#格式化輸出\nname = \"Amber\"\nage = 19\ntext_string = \"My name is {} and I am {} years old.\".format(name, age)\nprint(text_string)\n\nname = \"Ashley\"\nage = 21\nprint(\"My name is {} and I am {} years old.\".format(name, age))\n\nname = input(\"name: \")\nage = input(\"age: \")\nprint(\"My name is {} and I am {} years old.\".format(name, age))",
      "execution_count": 25,
      "outputs": [
        {
          "output_type": "stream",
          "text": "My name is Amber and I am 19 years old.\nMy name is Ashley and I am 21 years old.\nname: willis\nage: 18\nMy name is willis and I am 18 years old.\n",
          "name": "stdout"
        }
      ]
    },
    {
      "metadata": {
        "slideshow": {
          "slide_type": "slide"
        }
      },
      "cell_type": "markdown",
      "source": "## 4.第一個動手做：計算BMI\n- 運用前述所學，設計一個BMI計算器，能夠正確計算BMI\n- BMI = 體重(公斤) / 身高平方(平方公尺)\n- 由使用者輸入體重、身高，顯示計算結果"
    },
    {
      "metadata": {
        "trusted": true
      },
      "cell_type": "code",
      "source": "# 體重(公斤)/身高**2(公尺**2)\n\nw= input(\"kg: \")\nm= input(\"m: \")\n\nBMI = float(w)/float(m)**2\n\nBMI",
      "execution_count": 7,
      "outputs": [
        {
          "output_type": "stream",
          "name": "stdout",
          "text": "kg: 70\nm: 1.7\n"
        },
        {
          "output_type": "execute_result",
          "execution_count": 7,
          "data": {
            "text/plain": "24.221453287197235"
          },
          "metadata": {}
        }
      ]
    },
    {
      "metadata": {
        "trusted": true,
        "slideshow": {
          "slide_type": "subslide"
        }
      },
      "cell_type": "code",
      "source": "hight = input(\"您的身高是幾公分:\")\nweight = input(\"您的體重是幾公斤:\")\nprint(\"您的BMI是:\" + weight / (hight/100)**2 )",
      "execution_count": null,
      "outputs": []
    },
    {
      "metadata": {
        "trusted": true,
        "slideshow": {
          "slide_type": "subslide"
        }
      },
      "cell_type": "code",
      "source": "hight = input(\"您的身高是幾公分:\")\nweight = input(\"您的體重是幾公斤:\")\nBMI = float(weight) / (float(hight)/100)**2\n\nprint(\"您的BMI是:\" +  str(BMI) )\n\n#過程中會遇到許多型別的問題，試著看清楚錯誤資訊，並轉換型別除錯",
      "execution_count": null,
      "outputs": []
    },
    {
      "metadata": {},
      "cell_type": "markdown",
      "source": "## 5.條件判斷"
    },
    {
      "metadata": {
        "trusted": true,
        "slideshow": {
          "slide_type": "slide"
        }
      },
      "cell_type": "code",
      "source": "1>2",
      "execution_count": 35,
      "outputs": [
        {
          "output_type": "execute_result",
          "execution_count": 35,
          "data": {
            "text/plain": "False"
          },
          "metadata": {}
        }
      ]
    },
    {
      "metadata": {
        "trusted": true,
        "slideshow": {
          "slide_type": "subslide"
        }
      },
      "cell_type": "code",
      "source": "1 == 0",
      "execution_count": 38,
      "outputs": [
        {
          "output_type": "execute_result",
          "execution_count": 38,
          "data": {
            "text/plain": "False"
          },
          "metadata": {}
        }
      ]
    },
    {
      "metadata": {
        "trusted": true
      },
      "cell_type": "code",
      "source": "a = 7\na != 8",
      "execution_count": 39,
      "outputs": [
        {
          "output_type": "execute_result",
          "execution_count": 39,
          "data": {
            "text/plain": "True"
          },
          "metadata": {}
        }
      ]
    },
    {
      "metadata": {
        "trusted": true,
        "slideshow": {
          "slide_type": "subslide"
        }
      },
      "cell_type": "code",
      "source": "type(1 == 1)",
      "execution_count": 40,
      "outputs": [
        {
          "output_type": "execute_result",
          "execution_count": 40,
          "data": {
            "text/plain": "bool"
          },
          "metadata": {}
        }
      ]
    },
    {
      "metadata": {
        "trusted": true
      },
      "cell_type": "code",
      "source": "\"B\" < \"b\"",
      "execution_count": 46,
      "outputs": [
        {
          "output_type": "execute_result",
          "execution_count": 46,
          "data": {
            "text/plain": "True"
          },
          "metadata": {}
        }
      ]
    },
    {
      "metadata": {
        "trusted": true
      },
      "cell_type": "markdown",
      "source": "## 6. 必須知道什麼是串列"
    },
    {
      "metadata": {
        "trusted": true
      },
      "cell_type": "code",
      "source": "[7,5,4.444,\"uiuiuiui\",True,False]",
      "execution_count": null,
      "outputs": []
    },
    {
      "metadata": {
        "trusted": true
      },
      "cell_type": "code",
      "source": "APPLE = [9, 5, 2, 7]",
      "execution_count": 47,
      "outputs": []
    },
    {
      "metadata": {
        "trusted": true
      },
      "cell_type": "code",
      "source": "PEN = [5, 5, 6, 6]",
      "execution_count": 48,
      "outputs": []
    },
    {
      "metadata": {
        "trusted": true
      },
      "cell_type": "code",
      "source": "APPLE+PEN",
      "execution_count": 49,
      "outputs": [
        {
          "output_type": "execute_result",
          "execution_count": 49,
          "data": {
            "text/plain": "[9, 5, 2, 7, 5, 5, 6, 6]"
          },
          "metadata": {}
        }
      ]
    },
    {
      "metadata": {
        "trusted": true
      },
      "cell_type": "code",
      "source": "APPLE-PEN",
      "execution_count": 50,
      "outputs": [
        {
          "output_type": "error",
          "ename": "TypeError",
          "evalue": "unsupported operand type(s) for -: 'list' and 'list'",
          "traceback": [
            "\u001b[0;31m---------------------------------------------------------------------------\u001b[0m",
            "\u001b[0;31mTypeError\u001b[0m                                 Traceback (most recent call last)",
            "\u001b[0;32m<ipython-input-50-75eabc42d2aa>\u001b[0m in \u001b[0;36m<module>\u001b[0;34m\u001b[0m\n\u001b[0;32m----> 1\u001b[0;31m \u001b[0mAPPLE\u001b[0m\u001b[0;34m-\u001b[0m\u001b[0mPEN\u001b[0m\u001b[0;34m\u001b[0m\u001b[0m\n\u001b[0m",
            "\u001b[0;31mTypeError\u001b[0m: unsupported operand type(s) for -: 'list' and 'list'"
          ]
        }
      ]
    },
    {
      "metadata": {
        "trusted": true
      },
      "cell_type": "code",
      "source": "APPLE*5",
      "execution_count": 51,
      "outputs": [
        {
          "output_type": "execute_result",
          "execution_count": 51,
          "data": {
            "text/plain": "[9, 5, 2, 7, 9, 5, 2, 7, 9, 5, 2, 7, 9, 5, 2, 7, 9, 5, 2, 7]"
          },
          "metadata": {}
        }
      ]
    },
    {
      "metadata": {
        "trusted": true
      },
      "cell_type": "code",
      "source": "APPLE",
      "execution_count": 61,
      "outputs": [
        {
          "output_type": "execute_result",
          "execution_count": 61,
          "data": {
            "text/plain": "[9, 5, 2, 7]"
          },
          "metadata": {}
        }
      ]
    },
    {
      "metadata": {
        "trusted": true
      },
      "cell_type": "code",
      "source": "APPLE[:3]  #不包含第4",
      "execution_count": 60,
      "outputs": [
        {
          "output_type": "execute_result",
          "execution_count": 60,
          "data": {
            "text/plain": "[9, 5, 2]"
          },
          "metadata": {}
        }
      ]
    },
    {
      "metadata": {
        "trusted": true
      },
      "cell_type": "code",
      "source": "APPLE[-1]",
      "execution_count": 62,
      "outputs": [
        {
          "output_type": "execute_result",
          "execution_count": 62,
          "data": {
            "text/plain": "7"
          },
          "metadata": {}
        }
      ]
    },
    {
      "metadata": {
        "trusted": true
      },
      "cell_type": "code",
      "source": "詞 = \"庭院深深深幾許\"",
      "execution_count": 52,
      "outputs": []
    },
    {
      "metadata": {
        "trusted": true
      },
      "cell_type": "code",
      "source": "詞[1]",
      "execution_count": 63,
      "outputs": [
        {
          "output_type": "execute_result",
          "execution_count": 63,
          "data": {
            "text/plain": "'院'"
          },
          "metadata": {}
        }
      ]
    },
    {
      "metadata": {
        "trusted": true
      },
      "cell_type": "code",
      "source": "詞[2:5]",
      "execution_count": 64,
      "outputs": [
        {
          "output_type": "execute_result",
          "execution_count": 64,
          "data": {
            "text/plain": "'深深深'"
          },
          "metadata": {}
        }
      ]
    },
    {
      "metadata": {
        "trusted": true
      },
      "cell_type": "code",
      "source": "詞[-5:]",
      "execution_count": 65,
      "outputs": [
        {
          "output_type": "execute_result",
          "execution_count": 65,
          "data": {
            "text/plain": "'深深深幾許'"
          },
          "metadata": {}
        }
      ]
    },
    {
      "metadata": {
        "trusted": true
      },
      "cell_type": "code",
      "source": "list(詞)",
      "execution_count": 66,
      "outputs": [
        {
          "output_type": "execute_result",
          "execution_count": 66,
          "data": {
            "text/plain": "['庭', '院', '深', '深', '深', '幾', '許']"
          },
          "metadata": {}
        }
      ]
    },
    {
      "metadata": {},
      "cell_type": "markdown",
      "source": "## 7.第二個動手做：線上遊戲命名產生器"
    },
    {
      "metadata": {},
      "cell_type": "markdown",
      "source": "80%玩家表示，最花時間的就是命名，既然我們學會了串列list，那我們來嘗試做一個命名產生器\n\n首先以list把地點跟明星名字存起來"
    },
    {
      "metadata": {
        "trusted": true
      },
      "cell_type": "code",
      "source": "local = [\"基隆\",'南港','松山','台北','萬華','板橋','樹林','鶯歌','桃園','中壢','楊梅','竹北','新竹','苗栗','銅鑼',\n         '后里','豐原','潭子','太原','台中','大慶','烏日','新烏日','成功','彰化','花壇','大村','員林','永靖','社頭',\n         '田中','二水','林內','民雄','嘉義','林鳳營','高雄',\"西屯\"]\nstar = ['山下智囧','囧把刀','尾田賀一航','木村倒頭哉','湯姆嗑吐司','木村唾液','今晨五','彭于晏','朝偉哥','曾志偉']\n",
      "execution_count": 67,
      "outputs": []
    },
    {
      "metadata": {},
      "cell_type": "markdown",
      "source": "用亂數取出一組組合，加在一起組成新的list，最後在取出list內容將字串合在一起"
    },
    {
      "metadata": {
        "trusted": true
      },
      "cell_type": "code",
      "source": "import random \n\nrandomname = random.sample(local, 1) + random.sample(star, 1)\n\"\".join(randomname)",
      "execution_count": 74,
      "outputs": [
        {
          "output_type": "execute_result",
          "execution_count": 74,
          "data": {
            "text/plain": "'豐原彭于晏'"
          },
          "metadata": {}
        }
      ]
    },
    {
      "metadata": {},
      "cell_type": "markdown",
      "source": "不命名變數也可以，方法百百種，python很自由"
    },
    {
      "metadata": {
        "trusted": true
      },
      "cell_type": "code",
      "source": "\"\".join(random.sample(local, 1) + random.sample(star, 1))",
      "execution_count": null,
      "outputs": []
    },
    {
      "metadata": {},
      "cell_type": "markdown",
      "source": "## 8.kv配對的字典"
    },
    {
      "metadata": {
        "trusted": true
      },
      "cell_type": "code",
      "source": "同學基本資料 = {\"andy\":[183,70],\"Alice\":[163,45]}",
      "execution_count": null,
      "outputs": []
    },
    {
      "metadata": {
        "trusted": true
      },
      "cell_type": "code",
      "source": "同學[\"andy\"]",
      "execution_count": null,
      "outputs": []
    },
    {
      "metadata": {
        "trusted": true
      },
      "cell_type": "markdown",
      "source": "## 8.條件判斷II:如果，否則\n可以分成 \n- if:           #條件成立執行以下描述\n- if else       #如果(成立就執行...),否則(成立就執行...)\n- if elif else  #如果(成立就執行...),否則如果(成立就執行...),否則(成立就執行...)"
    },
    {
      "metadata": {
        "trusted": true
      },
      "cell_type": "code",
      "source": "A = 2\nB = 3",
      "execution_count": null,
      "outputs": []
    },
    {
      "metadata": {
        "trusted": true
      },
      "cell_type": "code",
      "source": "if A == B:\n    print('A = B')",
      "execution_count": null,
      "outputs": []
    },
    {
      "metadata": {
        "trusted": true
      },
      "cell_type": "code",
      "source": "if A == B:\n    print('A = B')\nelse:\n    print('A != B')",
      "execution_count": null,
      "outputs": []
    },
    {
      "metadata": {
        "trusted": true
      },
      "cell_type": "code",
      "source": "if A > B:\n    print('A > B')\nelif A < B:\n    print('A < B')\nelse:\n    print('A = B')",
      "execution_count": null,
      "outputs": []
    },
    {
      "metadata": {},
      "cell_type": "markdown",
      "source": "現學現賣之「智慧聊天機器人」"
    },
    {
      "metadata": {
        "trusted": true
      },
      "cell_type": "code",
      "source": "say = input(\">>\")\nif say == '早安':\n    print(\"早安唷\")\nelse:\n    print(\"你說\"+say+\"阿?,對阿對阿我知道唷(裝傻)\")\n",
      "execution_count": null,
      "outputs": []
    },
    {
      "metadata": {},
      "cell_type": "markdown",
      "source": "## 9.你的人生就是個迴圈"
    },
    {
      "metadata": {},
      "cell_type": "markdown",
      "source": "迴圈是程式語言的特徵，讓電腦協助你重覆執行某項判斷，主流用法就是for迴圈與while迴圈，另外python還有一個枚舉可以使用。\n\n\n### 9-1 For迴圈\n- 先來個for迴圈吧，基本上for迴圈常與list結合使用\n\n```\nfor 指標 in 要判別的資料集:\n    執行項目\n```\n"
    },
    {
      "metadata": {
        "trusted": true
      },
      "cell_type": "code",
      "source": "豆豆屋 = [\"紅茶\", \"綠茶\", \"烏龍\", \"鐵觀音\"]\nfor i in range(len(豆豆屋)):\n    print(豆豆屋[i])",
      "execution_count": null,
      "outputs": []
    },
    {
      "metadata": {},
      "cell_type": "markdown",
      "source": "### 9-2 enumerate()枚舉\n\n假設我們要迭代list成員的名稱，並獲取list中每個成員的位置。可以用enumerate，又稱枚舉\n\n"
    },
    {
      "metadata": {
        "trusted": true
      },
      "cell_type": "code",
      "source": "for n, member in enumerate(豆豆屋):\n    print(n, member)",
      "execution_count": null,
      "outputs": []
    },
    {
      "metadata": {},
      "cell_type": "markdown",
      "source": "### 9-3 while迴圈\n\nwhile迴圈，除非成立才會跳出循環\n```\nwhile 條件式：\n   程式區塊\n```"
    },
    {
      "metadata": {
        "trusted": true,
        "scrolled": true
      },
      "cell_type": "code",
      "source": "count = 0 \n\nwhile (count < 5): \n    print('The count is:', count)\n    count = count + 1 \n\nprint (\"Good bye!\")",
      "execution_count": null,
      "outputs": []
    },
    {
      "metadata": {
        "trusted": true
      },
      "cell_type": "code",
      "source": "# continue用法\ni = 1 \nwhile i < 6: \n    i += 1 \n    if i%2 > 0:\n        continue \n    print(i)",
      "execution_count": null,
      "outputs": []
    },
    {
      "metadata": {
        "trusted": true
      },
      "cell_type": "code",
      "source": "# break用法\ni = 1 \nwhile 1:\n    print(i) \n    i += 1 \n    if i > 10:\n        break",
      "execution_count": null,
      "outputs": []
    },
    {
      "metadata": {},
      "cell_type": "markdown",
      "source": "現學現賣之「智慧聊天機器人(宮鬥版)」"
    },
    {
      "metadata": {
        "trusted": true
      },
      "cell_type": "code",
      "source": "say = '' #先設一個空字串讓程式知道\n\nwhile say != \"跪安\":\n    say = input(\"說吧，哀家聽著呢>>\")\n    if say == '跪安':\n        print(\"下去吧\")\n    else:\n        print(\"嚷嚷啥，賤婢還不跪安?!\")\n        \n        ",
      "execution_count": null,
      "outputs": []
    },
    {
      "metadata": {},
      "cell_type": "markdown",
      "source": "## 10.函數其實很精彩"
    },
    {
      "metadata": {},
      "cell_type": "markdown",
      "source": "用來打包你所會的一切，必要時呼叫出來就可以用\n```\ndef foo(引數1,引數2):\n    執行內容\n    retuen 回傳值\n```\n\n呼叫時使用\n```\nfoo(引數1,引數2)\n```"
    },
    {
      "metadata": {
        "trusted": true
      },
      "cell_type": "code",
      "source": "def repaly_word(say):\n    print(say)\n    print(\"氣噗噗\")",
      "execution_count": null,
      "outputs": []
    },
    {
      "metadata": {
        "trusted": true
      },
      "cell_type": "code",
      "source": "repaly_word(\"你好\")",
      "execution_count": null,
      "outputs": []
    },
    {
      "metadata": {
        "trusted": true
      },
      "cell_type": "code",
      "source": "def 加法(a,b):\n    result = a + b\n    return result",
      "execution_count": null,
      "outputs": []
    },
    {
      "metadata": {
        "trusted": true
      },
      "cell_type": "code",
      "source": "加法(3,5)",
      "execution_count": null,
      "outputs": []
    },
    {
      "metadata": {},
      "cell_type": "markdown",
      "source": "## 11.第三個動手做：打造豆豆屋訂餐系統"
    },
    {
      "metadata": {},
      "cell_type": "markdown",
      "source": "當程式以函數包起來後，使用者只要呼叫函數，輸入對應的引數，即可得到結果，不需要在意裡面的細節囉"
    },
    {
      "metadata": {
        "trusted": true
      },
      "cell_type": "code",
      "source": "def 豆豆屋訂餐(第1至3號餐,數量):\n    if 第1至3號餐 == 1:\n        price = 數量*60\n    elif 第1至3號餐 == 2:\n        price = 數量*70\n    elif 第1至3號餐 == 3:\n        price = 數量*80\n    else:\n        print(\"請選擇1至3號餐，輸入1個數字即可，謝謝\")\n    return (\"您選的是\"+str(第1至3號餐)+\"號餐, 金額是\" + str(price) + \"元\")",
      "execution_count": null,
      "outputs": []
    },
    {
      "metadata": {
        "trusted": true
      },
      "cell_type": "code",
      "source": "豆豆屋訂餐(1,9)",
      "execution_count": null,
      "outputs": []
    }
  ],
  "metadata": {
    "kernelspec": {
      "name": "python36",
      "display_name": "Python 3.6",
      "language": "python"
    },
    "language_info": {
      "mimetype": "text/x-python",
      "nbconvert_exporter": "python",
      "name": "python",
      "pygments_lexer": "ipython3",
      "version": "3.6.6",
      "file_extension": ".py",
      "codemirror_mode": {
        "version": 3,
        "name": "ipython"
      }
    }
  },
  "nbformat": 4,
  "nbformat_minor": 2
}